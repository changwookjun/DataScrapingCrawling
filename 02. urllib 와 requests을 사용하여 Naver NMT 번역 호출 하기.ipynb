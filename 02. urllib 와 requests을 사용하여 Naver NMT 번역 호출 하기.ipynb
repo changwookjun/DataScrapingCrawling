{
 "cells": [
  {
   "cell_type": "markdown",
   "metadata": {},
   "source": [
    "### Naver 개발자 계정 받기\n",
    "\n",
    "![네이버 계정 받기](./images/4.png)"
   ]
  },
  {
   "cell_type": "markdown",
   "metadata": {},
   "source": [
    "### 파파고를 이용해서 번역하기\n",
    "https://developers.naver.com/products/nmt/"
   ]
  },
  {
   "cell_type": "markdown",
   "metadata": {},
   "source": [
    "### NMT SMT 번역 접근\n",
    "\n",
    "![SMT 번역](./images/3.png)"
   ]
  },
  {
   "cell_type": "markdown",
   "metadata": {},
   "source": [
    "# 1. urllib를 사용한 코드"
   ]
  },
  {
   "cell_type": "code",
   "execution_count": 22,
   "metadata": {},
   "outputs": [],
   "source": [
    "# 네이버 API 접근하기\n",
    "\n",
    "import urllib.request"
   ]
  },
  {
   "cell_type": "code",
   "execution_count": 24,
   "metadata": {},
   "outputs": [
    {
     "name": "stdout",
     "output_type": "stream",
     "text": [
      "{\"message\":{\"@type\":\"response\",\"@service\":\"naverservice.nmt.proxy\",\"@version\":\"1.0.0\",\"result\":{\"srcLangType\":\"en\",\"tarLangType\":\"ko\",\"translatedText\":\"어제는 내 모든 문제가 너무 멀리 있는 것 같았다.\"}}}\n"
     ]
    }
   ],
   "source": [
    "client_id = \"cdJJWjwbSqpl1v23_5m9\"\n",
    "client_secret = \"Bs0kvhbAx1\"\n",
    "encText = urllib.parse.quote(\"Yesterday all my troubles seemed so far away.\")\n",
    "data = \"source=en&target=ko&text=\" + encText\n",
    "url = \"https://openapi.naver.com/v1/papago/n2mt\"\n",
    "request = urllib.request.Request(url)\n",
    "request.add_header(\"X-Naver-Client-Id\",client_id)\n",
    "request.add_header(\"X-Naver-Client-Secret\",client_secret)\n",
    "response = urllib.request.urlopen(request, data=data.encode(\"utf-8\"))\n",
    "rescode = response.getcode()\n",
    "if(rescode==200):\n",
    "    response_body = response.read()\n",
    "    print(response_body.decode('utf-8'))\n",
    "else:\n",
    "    print(\"Error Code:\" + rescode)"
   ]
  },
  {
   "cell_type": "markdown",
   "metadata": {},
   "source": [
    "# 2. requests를 사용한 코드 "
   ]
  },
  {
   "cell_type": "code",
   "execution_count": 6,
   "metadata": {},
   "outputs": [],
   "source": [
    "import requests"
   ]
  },
  {
   "cell_type": "code",
   "execution_count": 11,
   "metadata": {},
   "outputs": [
    {
     "data": {
      "text/plain": [
       "{'X-Naver-Client-Id': 'cdJJWjwbSqpl1v23_5m9',\n",
       " 'X-Naver-Client-Secret': 'Bs0kvhbAx1'}"
      ]
     },
     "execution_count": 11,
     "metadata": {},
     "output_type": "execute_result"
    }
   ],
   "source": [
    "client_id = \"cdJJWjwbSqpl1v23_5m9\"\n",
    "client_secret = \"Bs0kvhbAx1\"\n",
    "encText = \"Yesterday all my troubles seemed so far away.\"\n",
    "request_headers = {\n",
    "    \"X-Naver-Client-Id\":client_id, \n",
    "    \"X-Naver-Client-Secret\":client_secret\n",
    "}\n",
    "\n",
    "request_headers"
   ]
  },
  {
   "cell_type": "code",
   "execution_count": 13,
   "metadata": {},
   "outputs": [
    {
     "data": {
      "text/plain": [
       "{'source': 'en',\n",
       " 'target': 'ko',\n",
       " 'text': 'Yesterday all my troubles seemed so far away.'}"
      ]
     },
     "execution_count": 13,
     "metadata": {},
     "output_type": "execute_result"
    }
   ],
   "source": [
    "data = {\n",
    "    \"source\":\"en\",\n",
    "    \"target\":\"ko\",\n",
    "    \"text\":encText\n",
    "}\n",
    "data"
   ]
  },
  {
   "cell_type": "code",
   "execution_count": 14,
   "metadata": {},
   "outputs": [],
   "source": [
    "url = \"https://openapi.naver.com/v1/papago/n2mt\""
   ]
  },
  {
   "cell_type": "markdown",
   "metadata": {},
   "source": [
    "### post( ) method를 사용"
   ]
  },
  {
   "cell_type": "code",
   "execution_count": 20,
   "metadata": {},
   "outputs": [
    {
     "name": "stdout",
     "output_type": "stream",
     "text": [
      "{\"message\":{\"@type\":\"response\",\"@service\":\"naverservice.nmt.proxy\",\"@version\":\"1.0.0\",\"result\":{\"srcLangType\":\"en\",\"tarLangType\":\"ko\",\"translatedText\":\"어제는 내 모든 고민이 너무 멀리 있는 것 같았다.\"}}}\n"
     ]
    }
   ],
   "source": [
    "res = requests.post(url, headers=request_headers, data=data) # 정의된 내용 headers ,  data\n",
    "if(res.status_code == 200):\n",
    "    print(res.text) # 정상적으로 가져오는 경우\n",
    "else:\n",
    "    print('Error Code ' + res.status_code) # 비정상적으로 가져 오지 못 하는 경우"
   ]
  },
  {
   "cell_type": "code",
   "execution_count": 18,
   "metadata": {},
   "outputs": [
    {
     "data": {
      "text/plain": [
       "{'message': {'@service': 'naverservice.nmt.proxy',\n",
       "  '@type': 'response',\n",
       "  '@version': '1.0.0',\n",
       "  'result': {'srcLangType': 'en',\n",
       "   'tarLangType': 'ko',\n",
       "   'translatedText': '어제는 내 모든 고민이 너무 멀리 있는 것 같았다.'}}}"
      ]
     },
     "execution_count": 18,
     "metadata": {},
     "output_type": "execute_result"
    }
   ],
   "source": [
    "res.json()"
   ]
  },
  {
   "cell_type": "code",
   "execution_count": 21,
   "metadata": {},
   "outputs": [
    {
     "data": {
      "text/plain": [
       "'어제는 내 모든 고민이 너무 멀리 있는 것 같았다.'"
      ]
     },
     "execution_count": 21,
     "metadata": {},
     "output_type": "execute_result"
    }
   ],
   "source": [
    "res.json()['message']['result']['translatedText'] #  원하는 값을 가져오기"
   ]
  },
  {
   "cell_type": "code",
   "execution_count": null,
   "metadata": {},
   "outputs": [],
   "source": []
  }
 ],
 "metadata": {
  "kernelspec": {
   "display_name": "Python 3",
   "language": "python",
   "name": "python3"
  },
  "language_info": {
   "codemirror_mode": {
    "name": "ipython",
    "version": 3
   },
   "file_extension": ".py",
   "mimetype": "text/x-python",
   "name": "python",
   "nbconvert_exporter": "python",
   "pygments_lexer": "ipython3",
   "version": "3.6.4"
  }
 },
 "nbformat": 4,
 "nbformat_minor": 2
}
