{
 "cells": [
  {
   "cell_type": "markdown",
   "metadata": {},
   "source": [
    "# 1. 팟빵 mp3 다운로드 하기 "
   ]
  },
  {
   "cell_type": "markdown",
   "metadata": {},
   "source": [
    "![팟빵  Site](./images/34.png)"
   ]
  },
  {
   "cell_type": "markdown",
   "metadata": {},
   "source": [
    "### referer 가져 오기 "
   ]
  },
  {
   "cell_type": "markdown",
   "metadata": {},
   "source": [
    "![팟빵  Site](./images/35.png)"
   ]
  },
  {
   "cell_type": "markdown",
   "metadata": {},
   "source": [
    "### 해당 페이지 접근해야 할 컨텐츠 "
   ]
  },
  {
   "cell_type": "markdown",
   "metadata": {},
   "source": [
    "![팟빵  Site](./images/36.png)"
   ]
  },
  {
   "cell_type": "code",
   "execution_count": 1,
   "metadata": {},
   "outputs": [],
   "source": [
    "import requests\n",
    "from bs4 import BeautifulSoup\n",
    "from urllib.parse import urljoin\n",
    "\n",
    "page_url = 'http://www.podbbang.com/podbbangchnew/episode_list?id=13909&page=2'\n",
    "headers={\n",
    "    'Referer':'http://www.podbbang.com/ch/13909'\n",
    "}"
   ]
  },
  {
   "cell_type": "code",
   "execution_count": 2,
   "metadata": {},
   "outputs": [],
   "source": [
    "resp = requests.get(page_url, headers=headers)\n",
    "resp.encoding='utf-8' #  한글이 깨지는 Site는 encoding을 해줘야 한다.\n",
    "html = resp.text"
   ]
  },
  {
   "cell_type": "code",
   "execution_count": 3,
   "metadata": {},
   "outputs": [],
   "source": [
    "soup = BeautifulSoup(html, 'html.parser')\n",
    "# soup"
   ]
  },
  {
   "cell_type": "markdown",
   "metadata": {},
   "source": [
    "![팟빵  Site](./images/37.png)"
   ]
  },
  {
   "cell_type": "code",
   "execution_count": 5,
   "metadata": {},
   "outputs": [
    {
     "name": "stdout",
     "output_type": "stream",
     "text": [
      "(특별판) 정박의 역사 권력 인간 : 북토크 팟빵홀 1부 http://www.podbbang.com/download?pid=13909&eid=22604719\n"
     ]
    }
   ],
   "source": [
    "for li_tag in soup.select('li'):\n",
    "    title = li_tag.find('dt')['title']\n",
    "    link = urljoin(page_url, li_tag.find('a')['href'])\n",
    "    print(title, link)\n",
    "    \n",
    "    mp3_bin = requests.get(link, headers=headers).content\n",
    "    filename = '{}.mp3'.format(title)\n",
    "    with open(filename, 'wb') as f:\n",
    "        f.write(mp3_bin)\n",
    "    break"
   ]
  },
  {
   "cell_type": "markdown",
   "metadata": {},
   "source": [
    "### episode Id를 입력으로 받는 download_mp3(pid) 함수 작성"
   ]
  },
  {
   "cell_type": "code",
   "execution_count": 21,
   "metadata": {},
   "outputs": [],
   "source": [
    "import requests\n",
    "from bs4 import BeautifulSoup\n",
    "from urllib.parse import urljoin\n",
    "from itertools import count\n",
    "from time import sleep"
   ]
  },
  {
   "cell_type": "code",
   "execution_count": 22,
   "metadata": {},
   "outputs": [],
   "source": [
    "def download_mp3(pid):\n",
    "    for page in count(1):\n",
    "        print('page 번호 : {}'.format(page))\n",
    "        page_url = 'http://www.podbbang.com/podbbangchnew/episode_list'\n",
    "        params = {\n",
    "            'id':pid,\n",
    "            'page':page    \n",
    "        }\n",
    "        headers={\n",
    "            'Referer':'http://www.podbbang.com/ch/{pid}'.format(pid=pid)\n",
    "        }\n",
    "\n",
    "        resp = requests.get(page_url, headers=headers, params=params)\n",
    "        resp.encoding='utf-8' #  한글이 깨지는 Site는 encoding을 해줘야 한다.\n",
    "        html = resp.text\n",
    "\n",
    "        soup = BeautifulSoup(html, 'html.parser')\n",
    "\n",
    "        for li_tag in soup.select('li'):\n",
    "            try:\n",
    "                title = li_tag.find('dt')['title']\n",
    "                link = urljoin(page_url, li_tag.find('a')['href'])\n",
    "                print(title, link)\n",
    "            except(TypeError, KeyError):\n",
    "                print('END')\n",
    "                return None\n",
    "            else: # DownLoad 부분\n",
    "#                 mp3_bin = requests.get(link, headers=headers).content\n",
    "#                 filename = '{}.mp3'.format(title)\n",
    "#                 with open(filename, 'wb') as f:\n",
    "#                     f.write(mp3_bin)\n",
    "                  sleep(1)"
   ]
  },
  {
   "cell_type": "code",
   "execution_count": 1,
   "metadata": {},
   "outputs": [],
   "source": [
    "download_mp3(7865)\n",
    "#download_mp3(13909)"
   ]
  },
  {
   "cell_type": "markdown",
   "metadata": {},
   "source": [
    "![팟빵  Site](./images/38.png)"
   ]
  },
  {
   "cell_type": "code",
   "execution_count": null,
   "metadata": {},
   "outputs": [],
   "source": []
  }
 ],
 "metadata": {
  "kernelspec": {
   "display_name": "Python 3",
   "language": "python",
   "name": "python3"
  },
  "language_info": {
   "codemirror_mode": {
    "name": "ipython",
    "version": 3
   },
   "file_extension": ".py",
   "mimetype": "text/x-python",
   "name": "python",
   "nbconvert_exporter": "python",
   "pygments_lexer": "ipython3",
   "version": "3.6.4"
  }
 },
 "nbformat": 4,
 "nbformat_minor": 2
}
