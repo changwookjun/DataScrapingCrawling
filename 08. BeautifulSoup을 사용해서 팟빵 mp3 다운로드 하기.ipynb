{
 "cells": [
  {
   "cell_type": "markdown",
   "metadata": {},
   "source": [
    "# 1. 팟빵 mp3 다운로드 하기 "
   ]
  },
  {
   "cell_type": "markdown",
   "metadata": {},
   "source": [
    "![팟빵  Site](./images/34.png)"
   ]
  },
  {
   "cell_type": "markdown",
   "metadata": {},
   "source": [
    "### referer 가져 오기 "
   ]
  },
  {
   "cell_type": "markdown",
   "metadata": {},
   "source": [
    "![팟빵  Site](./images/35.png)"
   ]
  },
  {
   "cell_type": "markdown",
   "metadata": {},
   "source": [
    "### 해당 페이지 접근해야 할 컨텐츠 "
   ]
  },
  {
   "cell_type": "markdown",
   "metadata": {},
   "source": [
    "![팟빵  Site](./images/36.png)"
   ]
  },
  {
   "cell_type": "code",
   "execution_count": 1,
   "metadata": {},
   "outputs": [],
   "source": [
    "import requests\n",
    "from bs4 import BeautifulSoup\n",
    "from urllib.parse import urljoin\n",
    "\n",
    "page_url = 'http://www.podbbang.com/podbbangchnew/episode_list?id=13909&page=2'\n",
    "headers={\n",
    "    'Referer':'http://www.podbbang.com/ch/13909'\n",
    "}"
   ]
  },
  {
   "cell_type": "code",
   "execution_count": 2,
   "metadata": {},
   "outputs": [],
   "source": [
    "resp = requests.get(page_url, headers=headers)\n",
    "resp.encoding='utf-8' #  한글이 깨지는 Site는 encoding을 해줘야 한다.\n",
    "html = resp.text"
   ]
  },
  {
   "cell_type": "code",
   "execution_count": 3,
   "metadata": {},
   "outputs": [],
   "source": [
    "soup = BeautifulSoup(html, 'html.parser')\n",
    "# soup"
   ]
  },
  {
   "cell_type": "markdown",
   "metadata": {},
   "source": [
    "![팟빵  Site](./images/37.png)"
   ]
  },
  {
   "cell_type": "code",
   "execution_count": 5,
   "metadata": {},
   "outputs": [
    {
     "name": "stdout",
     "output_type": "stream",
     "text": [
      "(특별판) 정박의 역사 권력 인간 : 북토크 팟빵홀 1부 http://www.podbbang.com/download?pid=13909&eid=22604719\n"
     ]
    }
   ],
   "source": [
    "for li_tag in soup.select('li'):\n",
    "    title = li_tag.find('dt')['title']\n",
    "    link = urljoin(page_url, li_tag.find('a')['href'])\n",
    "    print(title, link)\n",
    "    \n",
    "    mp3_bin = requests.get(link, headers=headers).content\n",
    "    filename = '{}.mp3'.format(title)\n",
    "    with open(filename, 'wb') as f:\n",
    "        f.write(mp3_bin)\n",
    "    break"
   ]
  },
  {
   "cell_type": "markdown",
   "metadata": {},
   "source": [
    "### episode Id를 입력으로 받는 download_mp3(pid) 함수 작성"
   ]
  },
  {
   "cell_type": "code",
   "execution_count": 21,
   "metadata": {},
   "outputs": [],
   "source": [
    "import requests\n",
    "from bs4 import BeautifulSoup\n",
    "from urllib.parse import urljoin\n",
    "from itertools import count\n",
    "from time import sleep"
   ]
  },
  {
   "cell_type": "code",
   "execution_count": 22,
   "metadata": {},
   "outputs": [],
   "source": [
    "def download_mp3(pid):\n",
    "    for page in count(1):\n",
    "        print('page 번호 : {}'.format(page))\n",
    "        page_url = 'http://www.podbbang.com/podbbangchnew/episode_list'\n",
    "        params = {\n",
    "            'id':pid,\n",
    "            'page':page    \n",
    "        }\n",
    "        headers={\n",
    "            'Referer':'http://www.podbbang.com/ch/{pid}'.format(pid=pid)\n",
    "        }\n",
    "\n",
    "        resp = requests.get(page_url, headers=headers, params=params)\n",
    "        resp.encoding='utf-8' #  한글이 깨지는 Site는 encoding을 해줘야 한다.\n",
    "        html = resp.text\n",
    "\n",
    "        soup = BeautifulSoup(html, 'html.parser')\n",
    "\n",
    "        for li_tag in soup.select('li'):\n",
    "            try:\n",
    "                title = li_tag.find('dt')['title']\n",
    "                link = urljoin(page_url, li_tag.find('a')['href'])\n",
    "                print(title, link)\n",
    "            except(TypeError, KeyError):\n",
    "                print('END')\n",
    "                return None\n",
    "            else: # DownLoad 부분\n",
    "#                 mp3_bin = requests.get(link, headers=headers).content\n",
    "#                 filename = '{}.mp3'.format(title)\n",
    "#                 with open(filename, 'wb') as f:\n",
    "#                     f.write(mp3_bin)\n",
    "                  sleep(1)"
   ]
  },
  {
   "cell_type": "code",
   "execution_count": null,
   "metadata": {},
   "outputs": [
    {
     "name": "stdout",
     "output_type": "stream",
     "text": [
      "page 번호 : 1\n",
      "무서운이야기 - 2017 엔딩 http://www.podbbang.com/download?pid=7865&eid=22393033\n",
      "무서운이야기 - 170. 새끼손가락 http://www.podbbang.com/download?pid=7865&eid=22393030\n",
      "무서운이야기 - 169. 지하철 4호선에서 다른세계에 갔다온 친구 http://www.podbbang.com/download?pid=7865&eid=22392259\n",
      "무서운이야기 - 168. 저주 http://www.podbbang.com/download?pid=7865&eid=22390239\n",
      "무서운이야기 - 167. 무당의 한마디 http://www.podbbang.com/download?pid=7865&eid=22389143\n",
      "무서운이야기 - 166. 폐병원 http://www.podbbang.com/download?pid=7865&eid=22380975\n",
      "무서운이야기 - 165. 촛대바위 http://www.podbbang.com/download?pid=7865&eid=22375430\n",
      "무서운이야기 - 164. 밤에 날 깨우는 엄마 http://www.podbbang.com/download?pid=7865&eid=22373745\n",
      "무서운이야기 - 163. 인천 남구 용현1동 굴다리다방 2층 http://www.podbbang.com/download?pid=7865&eid=22372484\n",
      "무서운이야기 - 162. 누구를데려가시는지잘봐라 http://www.podbbang.com/download?pid=7865&eid=22371583\n",
      "page 번호 : 2\n",
      "무서운이야기 - 161. 아기 돌사진 http://www.podbbang.com/download?pid=7865&eid=22370616\n",
      "무서운이야기 - 160. 두환자 http://www.podbbang.com/download?pid=7865&eid=22369649\n",
      "무서운이야기 - 159. 홍대 신축건물 화장실 http://www.podbbang.com/download?pid=7865&eid=22369605\n",
      "무서운이야기 - 158. 119대원의 소름끼치는 대화 http://www.podbbang.com/download?pid=7865&eid=22366960\n",
      "무서운이야기 - 157. 폐창고 이야기 http://www.podbbang.com/download?pid=7865&eid=22365486\n",
      "무서운이야기 - 156. 서울 성동구 실화 http://www.podbbang.com/download?pid=7865&eid=22364581\n",
      "무서운이야기 - 155. 손전등 술래잡기 http://www.podbbang.com/download?pid=7865&eid=22363568\n",
      "무서운이야기 - 154. 어사 박문수 이야기 http://www.podbbang.com/download?pid=7865&eid=22361810\n",
      "무서운이야기 - 153. 방배동 살인사건 http://www.podbbang.com/download?pid=7865&eid=22360440\n",
      "무서운이야기 - 152. 생각해 보니까 괴담 같아서 풀어보는 썰 http://www.podbbang.com/download?pid=7865&eid=22355733\n",
      "page 번호 : 3\n",
      "무서운이야기 - 151. 자수한 이유 http://www.podbbang.com/download?pid=7865&eid=22355134\n",
      "무서운이야기 - 150. 유치원 여름캠프 교사로 갔다가 겪은 일 http://www.podbbang.com/download?pid=7865&eid=22354223\n",
      "무서운이야기 - 149. 오싹한이야기 http://www.podbbang.com/download?pid=7865&eid=22352728\n",
      "무서운이야기 - 148. 내가 도서관에 가지 않는 이유 http://www.podbbang.com/download?pid=7865&eid=22351967\n",
      "무서운이야기 - [모임공지] 12_scarystory@naver.com http://www.podbbang.com/download?pid=7865&eid=22350571\n",
      "무서운이야기 - 147. 다이버 http://www.podbbang.com/download?pid=7865&eid=22350564\n",
      "무서운이야기 - 146. 노래방 아르바이트 http://www.podbbang.com/download?pid=7865&eid=22348313\n",
      "무서운이야기 - 145. 신내림의 과정 http://www.podbbang.com/download?pid=7865&eid=22346581\n",
      "무서운이야기 - 144. 겨울산의괴물 http://www.podbbang.com/download?pid=7865&eid=22345765\n",
      "무서운이야기 - 142. 잊고싶지만 잊을 수 없는 (재업로드) http://www.podbbang.com/download?pid=7865&eid=22345257\n",
      "page 번호 : 4\n",
      "무서운이야기 - 143. 악어 http://www.podbbang.com/download?pid=7865&eid=22344819\n",
      "무서운이야기 - 141. 은정아 일어나 어서 문열어줘 http://www.podbbang.com/download?pid=7865&eid=22342788\n",
      "무서운이야기 - 140. 소방대원 http://www.podbbang.com/download?pid=7865&eid=22341013\n",
      "무서운이야기 - 139. 자취하는데 무섭습니다 http://www.podbbang.com/download?pid=7865&eid=22340131\n",
      "무서운이야기 - 138. 군 후임에게 들은 실화 http://www.podbbang.com/download?pid=7865&eid=22339388\n",
      "무서운이야기 - 137. 사라진 친구와 헌책방 http://www.podbbang.com/download?pid=7865&eid=22338333\n",
      "무서운이야기 - 136. 과자를주는아줌마 http://www.podbbang.com/download?pid=7865&eid=22337469\n",
      "무서운이야기 - 135. 지하실창문 http://www.podbbang.com/download?pid=7865&eid=22335484\n",
      "무서운이야기 - 134. 남자친구의 집 http://www.podbbang.com/download?pid=7865&eid=22334667\n",
      "무서운이야기 - 133. 벽장 속 귀신 http://www.podbbang.com/download?pid=7865&eid=22333057\n",
      "page 번호 : 5\n",
      "무서운이야기 - 132. 집에서나는소리 http://www.podbbang.com/download?pid=7865&eid=22330546\n",
      "무서운이야기 - 131. 음악학원 http://www.podbbang.com/download?pid=7865&eid=22328723\n",
      "무서운이야기 - 130. 작은 할머니 http://www.podbbang.com/download?pid=7865&eid=22326835\n",
      "무서운이야기 - 129. 나를구해준저승사자 http://www.podbbang.com/download?pid=7865&eid=22324408\n",
      "무서운이야기 - 128. 주워온침대 http://www.podbbang.com/download?pid=7865&eid=22323378\n",
      "무서운이야기 - 127. 우리집 뒷산 현충탑 http://www.podbbang.com/download?pid=7865&eid=22322219\n",
      "무서운이야기 - 126. 산귀신 http://www.podbbang.com/download?pid=7865&eid=22320991\n",
      "무서운이야기 - 125. 2017 오픈 http://www.podbbang.com/download?pid=7865&eid=22320485\n",
      "무서운이야기 - 124. 2016 엔딩 http://www.podbbang.com/download?pid=7865&eid=22070019\n",
      "무서운이야기 - 123. 나가 http://www.podbbang.com/download?pid=7865&eid=22070001\n",
      "page 번호 : 6\n",
      "무서운이야기 - 122. 영감이 있는지 확인하는 방법 http://www.podbbang.com/download?pid=7865&eid=22069790\n",
      "무서운이야기 - 121. 수원역에서 있었던 일 http://www.podbbang.com/download?pid=7865&eid=22068309\n",
      "무서운이야기 - 120. 짧은 경험담입니다 http://www.podbbang.com/download?pid=7865&eid=22067561\n",
      "무서운이야기 - 119. 검은치마 http://www.podbbang.com/download?pid=7865&eid=22066709\n",
      "무서운이야기 - 118. 지하실 http://www.podbbang.com/download?pid=7865&eid=22059858\n",
      "무서운이야기 - 117. 눈앞의여자 http://www.podbbang.com/download?pid=7865&eid=22051069\n",
      "무서운이야기 - 116. 그녀를 알고 있는 사람은 없다 http://www.podbbang.com/download?pid=7865&eid=22049222\n",
      "무서운이야기 - 115. 무당 편의점 http://www.podbbang.com/download?pid=7865&eid=22343942\n",
      "무서운이야기 - 114. 야간알바 하다가 생긴 일 http://www.podbbang.com/download?pid=7865&eid=22047550\n",
      "무서운이야기 - 113. 장례식때 http://www.podbbang.com/download?pid=7865&eid=22046051\n",
      "page 번호 : 7\n",
      "무서운이야기 - 112. 사무실 야근중 http://www.podbbang.com/download?pid=7865&eid=22045207\n",
      "무서운이야기 - 111. 추천수 1000에 달했던 공포 체험담 http://www.podbbang.com/download?pid=7865&eid=22044338\n",
      "무서운이야기 - 110. 가락동무당귀신 http://www.podbbang.com/download?pid=7865&eid=22043211\n",
      "무서운이야기 - 109. 코로 http://www.podbbang.com/download?pid=7865&eid=22042694\n",
      "무서운이야기 - [모임공지] 12.scarystory@gmail.com http://www.podbbang.com/download?pid=7865&eid=22041950\n",
      "무서운이야기 - 108. 사람이살수없는집(1-7) http://www.podbbang.com/download?pid=7865&eid=22041947\n",
      "무서운이야기 - 107. 소꿉놀이 http://www.podbbang.com/download?pid=7865&eid=22041866\n",
      "무서운이야기 - 106. 틈새 http://www.podbbang.com/download?pid=7865&eid=22040411\n",
      "무서운이야기 - 105. 다잉메시지 http://www.podbbang.com/download?pid=7865&eid=22039707\n",
      "무서운이야기 - 104. 앨리스님의 제보 http://www.podbbang.com/download?pid=7865&eid=22038724\n",
      "page 번호 : 8\n",
      "무서운이야기 - 103. 홍수 http://www.podbbang.com/download?pid=7865&eid=22037840\n",
      "무서운이야기 - 102. 어머니와 아이 http://www.podbbang.com/download?pid=7865&eid=22036278\n",
      "무서운이야기 - 101. 한여름밤 낚시터 귀신 이야기 http://www.podbbang.com/download?pid=7865&eid=22035465\n",
      "무서운 이야기 - 100. 이별택시 http://www.podbbang.com/download?pid=7865&eid=22034735\n",
      "무서운 이야기 - 99. 약속 http://www.podbbang.com/download?pid=7865&eid=22033872\n",
      "무서운 이야기 - 98. 소녀 http://www.podbbang.com/download?pid=7865&eid=22033092\n",
      "무서운 이야기 - 97. 열쇠 http://www.podbbang.com/download?pid=7865&eid=22031590\n",
      "무서운 이야기 - 96. 피시방의 비밀 http://www.podbbang.com/download?pid=7865&eid=22030726\n",
      "무서운 이야기 - 95. 금붕어 http://www.podbbang.com/download?pid=7865&eid=22029976\n",
      "무서운 이야기 - 94. 너 우리 보이지 http://www.podbbang.com/download?pid=7865&eid=22029210\n",
      "page 번호 : 9\n",
      "무서운 이야기 - 93. 현실의 섬뜩함 http://www.podbbang.com/download?pid=7865&eid=22028378\n",
      "무서운이야기 - 92. 외할머니의 귀향 http://www.podbbang.com/download?pid=7865&eid=22025295\n",
      "무서운이야기 - 91. 내게는 언니가 있었다 http://www.podbbang.com/download?pid=7865&eid=22024533\n",
      "무서운이야기 - 90. 방송취재입니다 http://www.podbbang.com/download?pid=7865&eid=22023766\n",
      "무서운이야기 - 89. 차 안에서 자던 날 http://www.podbbang.com/download?pid=7865&eid=22020348\n",
      "무서운이야기 - 88. 무섭고 아찔했던 나의 경험담 http://www.podbbang.com/download?pid=7865&eid=22018678\n",
      "무서운이야기 - 87. 귀신 부르는 법 http://www.podbbang.com/download?pid=7865&eid=22017215\n",
      "무서운이야기 - 86. 주민지님의 제보 http://www.podbbang.com/download?pid=7865&eid=22016520\n",
      "무서운이야기 - 85. 부재중전화 http://www.podbbang.com/download?pid=7865&eid=22015854\n",
      "무서운이야기 - 84. 친구들이 인정한 내 가위 경험담2 http://www.podbbang.com/download?pid=7865&eid=22015074\n",
      "page 번호 : 10\n",
      "무서운이야기 - 83. 친구들이 인정한 내 가위 경험담1 http://www.podbbang.com/download?pid=7865&eid=22014070\n",
      "무서운이야기 - 82. 지금까지 귀신을 7번 봤습니다 http://www.podbbang.com/download?pid=7865&eid=22011692\n",
      "무서운이야기 - 81. 엘리베이터에서 본 것 http://www.podbbang.com/download?pid=7865&eid=22010934\n",
      "무서운이야기 - 80. 현관에 서있는 그림자 http://www.podbbang.com/download?pid=7865&eid=22010204\n",
      "무서운이야기 - 79. 언니의 기숙사 이야기 http://www.podbbang.com/download?pid=7865&eid=22009206\n",
      "무서운이야기 - 78. 대만호텔에서 겪은 일 http://www.podbbang.com/download?pid=7865&eid=22008493\n",
      "무서운이야기 - 2016 오픈 http://www.podbbang.com/download?pid=7865&eid=22008469\n",
      "무서운 이야기 - 2015 엔딩 http://www.podbbang.com/download?pid=7865&eid=21785726\n",
      "무서운 이야기 - 77. [번외] 노루의저주 http://www.podbbang.com/download?pid=7865&eid=21785725\n",
      "무서운 이야기 - 76. 기억 http://www.podbbang.com/download?pid=7865&eid=21785714\n",
      "page 번호 : 11\n",
      "무서운 이야기 - 75. 뒤에 서있는 아저씨 http://www.podbbang.com/download?pid=7865&eid=21783384\n",
      "무서운 이야기 - 74. 낚시터일화 http://www.podbbang.com/download?pid=7865&eid=21782556\n",
      "무서운 이야기 - 73. 해운회사 http://www.podbbang.com/download?pid=7865&eid=21782011\n"
     ]
    },
    {
     "name": "stdout",
     "output_type": "stream",
     "text": [
      "무서운 이야기 - 72. 뾰족 구두 http://www.podbbang.com/download?pid=7865&eid=21780629\n",
      "무서운 이야기 - 71. 아기울음소리 http://www.podbbang.com/download?pid=7865&eid=21779986\n",
      "무서운 이야기 - 70. 담임선생님의 이야기 http://www.podbbang.com/download?pid=7865&eid=21778072\n",
      "무서운 이야기 - 69. 도시괴담 http://www.podbbang.com/download?pid=7865&eid=21778071\n",
      "무서운 이야기 - 69. 모텔방 http://www.podbbang.com/download?pid=7865&eid=21777492\n",
      "무서운 이야기 - 68. 너무충격적인사실 http://www.podbbang.com/download?pid=7865&eid=21776877\n",
      "무서운 이야기 - 67. 장산범 http://www.podbbang.com/download?pid=7865&eid=21775555\n",
      "page 번호 : 12\n",
      "무서운 이야기 - 66. 사람이 살 수 없는 집(마지막) http://www.podbbang.com/download?pid=7865&eid=21774957\n"
     ]
    }
   ],
   "source": [
    "download_mp3(7865)\n",
    "#download_mp3(13909)"
   ]
  },
  {
   "cell_type": "markdown",
   "metadata": {},
   "source": [
    "![팟빵  Site](./images/38.png)"
   ]
  },
  {
   "cell_type": "code",
   "execution_count": null,
   "metadata": {},
   "outputs": [],
   "source": []
  }
 ],
 "metadata": {
  "kernelspec": {
   "display_name": "Python 3",
   "language": "python",
   "name": "python3"
  },
  "language_info": {
   "codemirror_mode": {
    "name": "ipython",
    "version": 3
   },
   "file_extension": ".py",
   "mimetype": "text/x-python",
   "name": "python",
   "nbconvert_exporter": "python",
   "pygments_lexer": "ipython3",
   "version": "3.6.4"
  }
 },
 "nbformat": 4,
 "nbformat_minor": 2
}
