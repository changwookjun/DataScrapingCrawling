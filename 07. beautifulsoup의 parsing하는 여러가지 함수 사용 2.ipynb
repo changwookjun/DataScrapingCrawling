{
 "cells": [
  {
   "cell_type": "markdown",
   "metadata": {},
   "source": [
    "# 1.beautifulsoup의 parsing하는 여러가지 함수 사용"
   ]
  },
  {
   "cell_type": "markdown",
   "metadata": {},
   "source": [
    "## 1.1 국회의원 이름과 번호 출력하기 (javascript로 동적인 데이터 )"
   ]
  },
  {
   "cell_type": "markdown",
   "metadata": {},
   "source": [
    "### 해당 Site 미리 알고 가야 할 내용 "
   ]
  },
  {
   "cell_type": "markdown",
   "metadata": {},
   "source": [
    "![국회의원  Site](./images/25.png)"
   ]
  },
  {
   "cell_type": "markdown",
   "metadata": {},
   "source": [
    "### Ajax 로 동적으로 Site를 구성 "
   ]
  },
  {
   "cell_type": "markdown",
   "metadata": {},
   "source": [
    "![국회의원  Site](./images/26.png)"
   ]
  },
  {
   "cell_type": "markdown",
   "metadata": {},
   "source": [
    "### 아래 index를 누르면 반복적으로 변경 되는 currentPage와 rowPerPage를 볼수 있다 . \n",
    "### 직접 가져오자 그럼"
   ]
  },
  {
   "cell_type": "markdown",
   "metadata": {},
   "source": [
    "![국회의원  Site](./images/27.png)"
   ]
  },
  {
   "cell_type": "markdown",
   "metadata": {},
   "source": [
    "### 전체를 다 가져 왔다."
   ]
  },
  {
   "cell_type": "code",
   "execution_count": 1,
   "metadata": {},
   "outputs": [],
   "source": [
    "import requests\n",
    "from bs4 import BeautifulSoup\n",
    "import re"
   ]
  },
  {
   "cell_type": "code",
   "execution_count": 2,
   "metadata": {},
   "outputs": [],
   "source": [
    "#  전체 가져 오기  위해서 currentPage 와 rowPerPage 확인 하기 \n",
    "url = 'http://www.assembly.go.kr/assm/memact/congressman/memCond/memCondListAjax.do?currentPage=1&rowPerPage=300'"
   ]
  },
  {
   "cell_type": "code",
   "execution_count": 7,
   "metadata": {},
   "outputs": [],
   "source": [
    "html = requests.get(url).text\n",
    "soup = BeautifulSoup(html, 'html.parser')\n",
    "#soup"
   ]
  },
  {
   "cell_type": "markdown",
   "metadata": {},
   "source": [
    "![국회의원  Site](./images/28.png)"
   ]
  },
  {
   "cell_type": "code",
   "execution_count": 19,
   "metadata": {},
   "outputs": [],
   "source": [
    "members = soup.select('.memberna_list dl dt a')\n",
    "#members"
   ]
  },
  {
   "cell_type": "markdown",
   "metadata": {},
   "source": [
    "![국회의원  Site](./images/29.png)"
   ]
  },
  {
   "cell_type": "code",
   "execution_count": 20,
   "metadata": {},
   "outputs": [],
   "source": [
    "for idx, member in enumerate(members, 1):\n",
    "    name = member.text\n",
    "    link = member['href']\n",
    "    matched = re.search(r\"\\d+\", link)\n",
    "    if matched:\n",
    "        member_id = matched.group(0)\n",
    "        #print(idx, name, member_id) # 국회의원 고유 번호 가져 오기 "
   ]
  },
  {
   "cell_type": "markdown",
   "metadata": {},
   "source": [
    "![국회의원  Site](./images/30.png)"
   ]
  },
  {
   "cell_type": "code",
   "execution_count": 29,
   "metadata": {},
   "outputs": [],
   "source": [
    "# 지역구만 가져 오기 \n",
    "locals = soup.select('.memberna_list dl .ht')\n",
    "# locals"
   ]
  },
  {
   "cell_type": "markdown",
   "metadata": {},
   "source": [
    "![국회의원  Site](./images/32.png)"
   ]
  },
  {
   "cell_type": "code",
   "execution_count": 30,
   "metadata": {},
   "outputs": [],
   "source": [
    "for idx, local in enumerate(locals, 1):\n",
    "    local = local.text\n",
    "    #print(local)"
   ]
  },
  {
   "cell_type": "markdown",
   "metadata": {},
   "source": [
    "![국회의원  Site](./images/33.png)"
   ]
  },
  {
   "cell_type": "markdown",
   "metadata": {},
   "source": [
    "### 두개 합쳐서 가져 오기 "
   ]
  },
  {
   "cell_type": "code",
   "execution_count": 27,
   "metadata": {},
   "outputs": [],
   "source": [
    "import requests\n",
    "from bs4 import BeautifulSoup\n",
    "import re\n",
    "\n",
    "\n",
    "#  전체 가져 오기  위해서 currentPage 와 rowPerPage 확인 하기 \n",
    "url = 'http://www.assembly.go.kr/assm/memact/congressman/memCond/memCondListAjax.do?currentPage=1&rowPerPage=300'\n",
    "\n",
    "\n",
    "html = requests.get(url).text\n",
    "soup = BeautifulSoup(html, 'html.parser')\n",
    "members = soup.select('.memberna_list dl')\n",
    "\n",
    "for idx, member in enumerate(members, 1):\n",
    "    a_tag = member.select('dt a')\n",
    "    name = a_tag[0].text\n",
    "    link = a_tag[0]['href']\n",
    "    matched = re.search(r\"\\d+\", link)\n",
    "    if matched:\n",
    "        member_id = matched.group(0)\n",
    "    else:\n",
    "        member_id = None\n",
    "        \n",
    "    dd_tag = member.select('dd.ht')\n",
    "    area_name = dd_tag[0].text\n",
    "    #print(idx, name, member_id, area_name)"
   ]
  },
  {
   "cell_type": "markdown",
   "metadata": {},
   "source": [
    "![국회의원  Site](./images/31.png)"
   ]
  },
  {
   "cell_type": "markdown",
   "metadata": {},
   "source": []
  }
 ],
 "metadata": {
  "kernelspec": {
   "display_name": "Python 3",
   "language": "python",
   "name": "python3"
  },
  "language_info": {
   "codemirror_mode": {
    "name": "ipython",
    "version": 3
   },
   "file_extension": ".py",
   "mimetype": "text/x-python",
   "name": "python",
   "nbconvert_exporter": "python",
   "pygments_lexer": "ipython3",
   "version": "3.6.4"
  }
 },
 "nbformat": 4,
 "nbformat_minor": 2
}
