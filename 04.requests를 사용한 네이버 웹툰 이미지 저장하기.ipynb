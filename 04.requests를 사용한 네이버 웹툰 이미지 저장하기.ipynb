{
 "cells": [
  {
   "cell_type": "markdown",
   "metadata": {},
   "source": [
    "# 1. 네이버 웹툰 "
   ]
  },
  {
   "cell_type": "markdown",
   "metadata": {},
   "source": [
    "![네이버 웹툰](./images/7.png)"
   ]
  },
  {
   "cell_type": "markdown",
   "metadata": {},
   "source": [
    "### 신과함께 웹툰에 접근 해보자 "
   ]
  },
  {
   "cell_type": "markdown",
   "metadata": {},
   "source": [
    "![네이버 웹툰](./images/8.png)"
   ]
  },
  {
   "cell_type": "markdown",
   "metadata": {},
   "source": [
    "### 속성에 접근 하자 (Edit attribute)"
   ]
  },
  {
   "cell_type": "markdown",
   "metadata": {},
   "source": [
    "![네이버 웹툰](./images/9.png)"
   ]
  },
  {
   "cell_type": "code",
   "execution_count": 18,
   "metadata": {},
   "outputs": [],
   "source": [
    "import requests\n",
    "import os"
   ]
  },
  {
   "cell_type": "code",
   "execution_count": 19,
   "metadata": {},
   "outputs": [],
   "source": [
    "### 신과함께 웹툰\n",
    "\n",
    "# Referer 접근한 URL 에서 Image를 그져 오는게 아니고 다른 부분으로 접근해서 Image를 가져 온다.\n",
    "headers = {\n",
    "    'Referer':'https://comic.naver.com/webtoon/detail.nhn?titleId=697685&no=120&weekday=thu'\n",
    "}\n",
    "\n",
    "# 가져올 Image 리스트로 가지기\n",
    "image_urls = {\n",
    "    'https://image-comic.pstatic.net/webtoon/697685/120/20180613170931_666911e9fe23f46e797ef39d87a09f0a_IMAG01_1.jpg',\n",
    "    'https://image-comic.pstatic.net/webtoon/697685/120/20180613170931_666911e9fe23f46e797ef39d87a09f0a_IMAG01_2.jpg',\n",
    "    'https://image-comic.pstatic.net/webtoon/697685/120/20180613170931_666911e9fe23f46e797ef39d87a09f0a_IMAG01_3.jpg',\n",
    "    'https://image-comic.pstatic.net/webtoon/697685/120/20180613170931_666911e9fe23f46e797ef39d87a09f0a_IMAG01_4.jpg'\n",
    "}"
   ]
  },
  {
   "cell_type": "code",
   "execution_count": 22,
   "metadata": {},
   "outputs": [
    {
     "name": "stdout",
     "output_type": "stream",
     "text": [
      "image file name 20180613170931_666911e9fe23f46e797ef39d87a09f0a_IMAG01_4.jpg (216625 bytes)\n",
      "image file name 20180613170931_666911e9fe23f46e797ef39d87a09f0a_IMAG01_2.jpg (247372 bytes)\n",
      "image file name 20180613170931_666911e9fe23f46e797ef39d87a09f0a_IMAG01_3.jpg (234712 bytes)\n",
      "image file name 20180613170931_666911e9fe23f46e797ef39d87a09f0a_IMAG01_1.jpg (192429 bytes)\n"
     ]
    }
   ],
   "source": [
    "for image_url in image_urls:\n",
    "    res = requests.get(image_url, headers=headers)\n",
    "    image_data = res.content # image data는 content로 가져오기\n",
    "    file_name = os.path.basename(image_url)\n",
    "    with open(file_name, 'wb') as f:\n",
    "        print('image file name {} ({} bytes)'.format(file_name, len(image_data)))\n",
    "        f.write(image_data)"
   ]
  },
  {
   "cell_type": "markdown",
   "metadata": {},
   "source": [
    "### image_data 형태 이다. (binary 형태)"
   ]
  },
  {
   "cell_type": "markdown",
   "metadata": {},
   "source": [
    "![결과](./images/10.png)"
   ]
  },
  {
   "cell_type": "markdown",
   "metadata": {},
   "source": [
    "### 잘 가져 왔다."
   ]
  },
  {
   "cell_type": "markdown",
   "metadata": {},
   "source": [
    "![결과](./images/11.png)"
   ]
  },
  {
   "cell_type": "markdown",
   "metadata": {},
   "source": [
    "### Referer을 주지 않는다면 "
   ]
  },
  {
   "cell_type": "code",
   "execution_count": 17,
   "metadata": {},
   "outputs": [
    {
     "name": "stdout",
     "output_type": "stream",
     "text": [
      "image file name 20180613170931_666911e9fe23f46e797ef39d87a09f0a_IMAG01_4.jpg (3342 bytes)\n",
      "image file name 20180613170931_666911e9fe23f46e797ef39d87a09f0a_IMAG01_2.jpg (3342 bytes)\n",
      "image file name 20180613170931_666911e9fe23f46e797ef39d87a09f0a_IMAG01_3.jpg (3342 bytes)\n",
      "image file name 20180613170931_666911e9fe23f46e797ef39d87a09f0a_IMAG01_1.jpg (3342 bytes)\n"
     ]
    }
   ],
   "source": [
    "for image_url in image_urls:\n",
    "    res = requests.get(image_url) # 변경된 값\n",
    "    image_data = res.content # image data는 content로 가져오기\n",
    "    file_name = os.path.basename(image_url)\n",
    "    with open(file_name, 'wb') as f:\n",
    "        print('image file name {} ({} bytes)'.format(file_name, len(image_data)))\n",
    "        f.write(image_data)"
   ]
  },
  {
   "cell_type": "markdown",
   "metadata": {},
   "source": [
    "### Bytes 값이 작다. "
   ]
  },
  {
   "cell_type": "markdown",
   "metadata": {},
   "source": [
    "![잘못된결과](./images/12.png)"
   ]
  },
  {
   "cell_type": "code",
   "execution_count": null,
   "metadata": {},
   "outputs": [],
   "source": []
  }
 ],
 "metadata": {
  "kernelspec": {
   "display_name": "Python 3",
   "language": "python",
   "name": "python3"
  },
  "language_info": {
   "codemirror_mode": {
    "name": "ipython",
    "version": 3
   },
   "file_extension": ".py",
   "mimetype": "text/x-python",
   "name": "python",
   "nbconvert_exporter": "python",
   "pygments_lexer": "ipython3",
   "version": "3.6.4"
  }
 },
 "nbformat": 4,
 "nbformat_minor": 2
}
