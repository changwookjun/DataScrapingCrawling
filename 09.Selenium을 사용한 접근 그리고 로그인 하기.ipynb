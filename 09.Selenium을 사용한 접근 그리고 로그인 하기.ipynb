{
 "cells": [
  {
   "cell_type": "markdown",
   "metadata": {},
   "source": [
    "# 1. Selenium을 이용한 접근"
   ]
  },
  {
   "cell_type": "markdown",
   "metadata": {},
   "source": [
    "### 크롬 웹 드라이브를 다운 받아서 적용하자.\n",
    "### https://sites.google.com/a/chromium.org/chromedriver/downloads"
   ]
  },
  {
   "cell_type": "markdown",
   "metadata": {},
   "source": [
    "![Chrome WebDriver  Site](./images/39.png)"
   ]
  },
  {
   "cell_type": "markdown",
   "metadata": {},
   "source": [
    "![Chrome WebDriver  Site](./images/40.png)"
   ]
  },
  {
   "cell_type": "markdown",
   "metadata": {},
   "source": [
    "### 반전된 부분을 가져 와서 처리 하면 해당 Touch Event 가 동작 한다. "
   ]
  },
  {
   "cell_type": "markdown",
   "metadata": {},
   "source": [
    "![접근해서 가져올 녀석](./images/41.png)"
   ]
  },
  {
   "cell_type": "code",
   "execution_count": 18,
   "metadata": {},
   "outputs": [],
   "source": [
    "from selenium import webdriver"
   ]
  },
  {
   "cell_type": "code",
   "execution_count": 19,
   "metadata": {},
   "outputs": [],
   "source": [
    "# # chromedriver의 경로를 지정하여 웹드라이버 객체 생성\n",
    "# driver = webdriver.Chrome('./chromedriver')\n",
    "# #  암묵적으로 웹 자원 로드를 위해 최대 3초까지 기다린다.\n",
    "# driver.implicitly_wait(3)\n",
    "# # url에 접근\n",
    "# driver.get('http://www.naver.com')"
   ]
  },
  {
   "cell_type": "code",
   "execution_count": 28,
   "metadata": {},
   "outputs": [
    {
     "name": "stdout",
     "output_type": "stream",
     "text": [
      "Python\n",
      "PSF\n",
      "Docs\n",
      "PyPI\n",
      "Jobs\n",
      "Community\n"
     ]
    }
   ],
   "source": [
    "# Chrom 객체 생성\n",
    "browser = webdriver.Chrome('./chromedriver')\n",
    "browser.get('http://www.python.org/')\n",
    "menus = browser.find_elements_by_css_selector('#top ul.menu li')\n",
    "pypi = None\n",
    "for menu in menus:\n",
    "     print(menu.text)\n",
    "     if menu.text == 'PyPI': #  찾기 완료 \n",
    "        pypi = menu \n",
    "        \n",
    "# menu 객체를 찾아서 클릭        \n",
    "pypi.click()\n",
    "sleep(10)\n",
    "# 종료\n",
    "browser.quit()"
   ]
  },
  {
   "cell_type": "markdown",
   "metadata": {},
   "source": [
    "# 2. naver 로그인 하기"
   ]
  },
  {
   "cell_type": "markdown",
   "metadata": {},
   "source": [
    "![네이버 로그인](./images/42.png)"
   ]
  },
  {
   "cell_type": "markdown",
   "metadata": {},
   "source": [
    "![네이버 로그인](./images/43.png)"
   ]
  },
  {
   "cell_type": "code",
   "execution_count": 23,
   "metadata": {},
   "outputs": [],
   "source": [
    "from selenium import webdriver\n",
    "from time import sleep"
   ]
  },
  {
   "cell_type": "code",
   "execution_count": 25,
   "metadata": {},
   "outputs": [],
   "source": [
    "browser = webdriver.Chrome('./chromedriver')\n",
    "browser.get('https://nid.naver.com/nidlogin.login') #  로그인 페이지\n",
    "# id 와 pass 입력\n",
    "id = browser.find_element_by_css_selector('#id').send_keys('xxxxxxxxxx') # 자신에 아이디를 넣는다.\n",
    "pw = browser.find_element_by_css_selector('#pw').send_keys('xxxxxxxxxx') # 자신의 비번을 넣는다.\n",
    "sleep(2)\n",
    "button = browser.find_element_by_css_selector('#frmNIDLogin > fieldset > input')\n",
    "button.click()\n",
    "sleep(20)\n",
    "browser.quit()"
   ]
  },
  {
   "cell_type": "markdown",
   "metadata": {},
   "source": [
    "![네이버 로그인](./images/44.png)"
   ]
  },
  {
   "cell_type": "code",
   "execution_count": null,
   "metadata": {},
   "outputs": [],
   "source": []
  }
 ],
 "metadata": {
  "kernelspec": {
   "display_name": "Python 3",
   "language": "python",
   "name": "python3"
  },
  "language_info": {
   "codemirror_mode": {
    "name": "ipython",
    "version": 3
   },
   "file_extension": ".py",
   "mimetype": "text/x-python",
   "name": "python",
   "nbconvert_exporter": "python",
   "pygments_lexer": "ipython3",
   "version": "3.6.4"
  }
 },
 "nbformat": 4,
 "nbformat_minor": 2
}
