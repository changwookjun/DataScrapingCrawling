{
 "cells": [
  {
   "cell_type": "markdown",
   "metadata": {},
   "source": [
    "# 1. request를 이용한 파일 업로드 "
   ]
  },
  {
   "cell_type": "code",
   "execution_count": 1,
   "metadata": {},
   "outputs": [],
   "source": [
    "import requests"
   ]
  },
  {
   "cell_type": "code",
   "execution_count": 2,
   "metadata": {},
   "outputs": [
    {
     "data": {
      "text/plain": [
       "{'image1': <_io.BufferedReader name='1.jpg'>,\n",
       " 'image2': <_io.BufferedReader name='2.jpg'>,\n",
       " 'image3': <_io.BufferedReader name='3.jpg'>,\n",
       " 'image4': ('4.jpg',\n",
       "  <_io.BufferedReader name='4.jpg'>,\n",
       "  'image/jpeg',\n",
       "  {'Expires': '0'})}"
      ]
     },
     "execution_count": 2,
     "metadata": {},
     "output_type": "execute_result"
    }
   ],
   "source": [
    "files = {\n",
    "    'image1':open('1.jpg', 'rb'),\n",
    "    'image2':open('2.jpg', 'rb'),\n",
    "    'image3':open('3.jpg', 'rb'),\n",
    "    'image4':('4.jpg', open('4.jpg', 'rb'), 'image/jpeg', {'Expires':'0'})\n",
    "}\n",
    "files"
   ]
  },
  {
   "cell_type": "markdown",
   "metadata": {},
   "source": [
    "### 파일 올리기 위한 Site\n",
    "http://httpbin.org/"
   ]
  },
  {
   "cell_type": "code",
   "execution_count": 3,
   "metadata": {},
   "outputs": [],
   "source": [
    "# file upload\n",
    "resp = requests.post(\"http://httpbin.org/post\", files=files)"
   ]
  },
  {
   "cell_type": "code",
   "execution_count": 4,
   "metadata": {},
   "outputs": [],
   "source": [
    "# 올린 데이터 보기\n",
    "# resp.json()"
   ]
  },
  {
   "cell_type": "markdown",
   "metadata": {},
   "source": [
    "![올린 데이터 보기](./images/13.png)"
   ]
  },
  {
   "cell_type": "code",
   "execution_count": 5,
   "metadata": {},
   "outputs": [],
   "source": [
    "# 한개만 가져 와서 보기\n",
    "# resp.json()['files']['image1']"
   ]
  },
  {
   "cell_type": "markdown",
   "metadata": {},
   "source": [
    "![한개만 가져오기](./images/14.png)"
   ]
  },
  {
   "cell_type": "markdown",
   "metadata": {},
   "source": [
    "### 위에 응답된 내용이 이미지 데이터 같은데 내용이 이미지 인지 확인 해보자 "
   ]
  },
  {
   "cell_type": "markdown",
   "metadata": {},
   "source": [
    "### HTML 구문 만들기"
   ]
  },
  {
   "cell_type": "markdown",
   "metadata": {},
   "source": [
    "![HTML 만들기](./images/15.png)"
   ]
  },
  {
   "cell_type": "markdown",
   "metadata": {},
   "source": [
    "### Image 확인 하기"
   ]
  },
  {
   "cell_type": "markdown",
   "metadata": {},
   "source": [
    "![이미지 확인](./images/16.png)"
   ]
  },
  {
   "cell_type": "code",
   "execution_count": null,
   "metadata": {},
   "outputs": [],
   "source": []
  }
 ],
 "metadata": {
  "kernelspec": {
   "display_name": "Python 3",
   "language": "python",
   "name": "python3"
  },
  "language_info": {
   "codemirror_mode": {
    "name": "ipython",
    "version": 3
   },
   "file_extension": ".py",
   "mimetype": "text/x-python",
   "name": "python",
   "nbconvert_exporter": "python",
   "pygments_lexer": "ipython3",
   "version": "3.6.4"
  }
 },
 "nbformat": 4,
 "nbformat_minor": 2
}
